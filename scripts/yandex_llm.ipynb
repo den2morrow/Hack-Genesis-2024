{
 "cells": [
  {
   "cell_type": "code",
   "execution_count": 27,
   "id": "4d6d7e09-e27a-4dd4-b02a-5877c8cb4173",
   "metadata": {
    "execution": {
     "iopub.execute_input": "2024-06-02T03:30:14.263710Z",
     "iopub.status.busy": "2024-06-02T03:30:14.262620Z",
     "iopub.status.idle": "2024-06-02T03:30:14.285711Z",
     "shell.execute_reply": "2024-06-02T03:30:14.285074Z",
     "shell.execute_reply.started": "2024-06-02T03:30:14.263668Z"
    },
    "tags": []
   },
   "outputs": [
    {
     "data": {
      "text/plain": [
       "True"
      ]
     },
     "execution_count": 27,
     "metadata": {},
     "output_type": "execute_result"
    }
   ],
   "source": [
    "import os\n",
    "from dotenv import load_dotenv\n",
    "from yandex_chain import YandexLLM, YandexEmbeddings\n",
    "from langchain.vectorstores import FAISS\n",
    "from langchain_community.document_loaders import TextLoader\n",
    "from langchain_community.document_loaders.pdf import UnstructuredPDFLoader, PDFMinerLoader\n",
    "from langchain_text_splitters import CharacterTextSplitter, RecursiveCharacterTextSplitter\n",
    "from langchain.prompts import ChatPromptTemplate\n",
    "from langchain.schema.output_parser import StrOutputParser\n",
    "from langchain.schema.runnable import RunnablePassthrough\n",
    "from tqdm import tqdm\n",
    "\n",
    "\n",
    "load_dotenv()"
   ]
  },
  {
   "cell_type": "code",
   "execution_count": 9,
   "id": "73b30dc9-5477-4540-9091-90a27135b18f",
   "metadata": {
    "execution": {
     "iopub.execute_input": "2024-06-02T02:12:43.523245Z",
     "iopub.status.busy": "2024-06-02T02:12:43.522568Z",
     "iopub.status.idle": "2024-06-02T02:40:47.736497Z",
     "shell.execute_reply": "2024-06-02T02:40:47.735652Z",
     "shell.execute_reply.started": "2024-06-02T02:12:43.523210Z"
    },
    "tags": []
   },
   "outputs": [
    {
     "name": "stdout",
     "output_type": "stream",
     "text": [
      "73\n",
      "52\n",
      "68\n",
      "68\n",
      "161\n",
      "127\n",
      "174\n",
      "197\n",
      "218\n",
      "182\n",
      "324\n"
     ]
    }
   ],
   "source": [
    "embeddings = YandexEmbeddings(folder_id=os.getenv('FOLDER_ID'), api_key=os.getenv('YANDEX_API_KEY'))\n",
    "# text_splitter = CharacterTextSplitter(chunk_overlap=0)\n",
    "text_splitter = RecursiveCharacterTextSplitter(chunk_size=1000, chunk_overlap=0)\n",
    "\n",
    "\n",
    "for path in os.listdir('../files/txts'):\n",
    "    txt_path = '../files/txts/'+path\n",
    "    loader = TextLoader(txt_path)\n",
    "    document = loader.load()\n",
    "    doc = text_splitter.split_documents(document)\n",
    "    db = FAISS.from_documents(doc, embeddings)\n",
    "    print(db.index.ntotal)"
   ]
  },
  {
   "cell_type": "code",
   "execution_count": 10,
   "id": "6ea93b81-17c2-4c99-8be4-f8a9906d4b6f",
   "metadata": {
    "execution": {
     "iopub.execute_input": "2024-06-02T02:40:47.738849Z",
     "iopub.status.busy": "2024-06-02T02:40:47.737933Z",
     "iopub.status.idle": "2024-06-02T02:40:47.765531Z",
     "shell.execute_reply": "2024-06-02T02:40:47.764880Z",
     "shell.execute_reply.started": "2024-06-02T02:40:47.738814Z"
    }
   },
   "outputs": [],
   "source": [
    "db.save_local('../files', index_name='finance_docs')"
   ]
  },
  {
   "cell_type": "code",
   "execution_count": 12,
   "id": "124c6553-540f-44e7-8534-f0e426c76da5",
   "metadata": {
    "execution": {
     "iopub.execute_input": "2024-06-02T02:48:29.351262Z",
     "iopub.status.busy": "2024-06-02T02:48:29.350127Z",
     "iopub.status.idle": "2024-06-02T02:48:29.401500Z",
     "shell.execute_reply": "2024-06-02T02:48:29.400842Z",
     "shell.execute_reply.started": "2024-06-02T02:48:29.351223Z"
    },
    "tags": []
   },
   "outputs": [
    {
     "name": "stdout",
     "output_type": "stream",
     "text": [
      "+ Запрос: Что по гособлигациям?\n",
      " + Получение релевантных документов\n",
      "page_content='договорные  условия  финансового  актива  обуславливают  получение  в  указанные  даты \\nденежных  потоков,  являющихся  исключительно  платежами в  счет  основной суммы долга и \\nпроцентов на непогашенную часть основной суммы долга. \\n\\uf0b7 \\n \\nПри  первоначальном  признании  Группа  может  принять  решение,  без  права  его  последующей \\nотмены, представлять в  составе  прочего  совокупного дохода  изменения  справедливой стоимости \\nинвестиции в долевой инструмент, не предназначенный для торговли. Такое решение принимается \\nпо каждому инструменту в отдельности. \\n \\n \\n22' metadata={'source': '../files/txts/Консолидированная финансовая отчетность за год закончившийся 31 декабря 2022 г. (в рублях)_.txt'}\n",
      "------\n",
      "\n",
      "page_content='учитываются  в  российских  депозитариях,  произошла  автоматически.  Конвертация  депозитарных \\nрасписок,  права  на  которые  учитываются  в  иностранных  депозитариях,  была  возможна  в \\nзаявительном  порядке  до  10  ноября  2022  года.  Акции  Компании  в  рамках  принудительной \\nконвертации были  зачислены заявителям, представившим  необходимые документы,  до  окончания \\nотчетного  периода.  По  состоянию  на  31  декабря  2022  года  доля  акций  Компании,  оставшихся  на \\nсчетах депо депозитарных программ, составила 6,7% от уставного капитала Компании. \\n \\n28 апреля 2023 года истекает срок разрешения на продолжение обращения депозитарных расписок \\nКомпании за пределами Российской Федерации. С этой даты учтенные на счетах депо депозитарных \\nпрограмм акции Компании не предоставляют права голоса, не учитываются при подсчете голосов, \\nпо ним не выплачиваются дивиденды. \\n \\n21  июля  2022  года  Европейский  Союз  и  26  июля  2022  года  Великобритания  среди  прочих' metadata={'source': '../files/txts/Консолидированная финансовая отчетность за год закончившийся 31 декабря 2022 г. (в рублях)_.txt'}\n",
      "------\n",
      "\n",
      "page_content='34.  УСЛОВНЫЕ ОБЯЗАТЕЛЬСТВА (ПРОДОЛЖЕНИЕ) \\nС 28 февраля 2022 года не проводились торги акциями и корпоративными облигациями на фондовом \\nрынке Московской  биржи.  Торги  акциями  и  корпоративными облигациями на Московской бирже \\nбыли возобновлены в конце марта 2022 года, при этом продолжают действовать ограничения на ряд \\nсделок с ценными бумагами, совершаемых нерезидентами. 3 марта 2022 года Лондонская фондовая \\nбиржа  приостановила  торги  депозитарными  расписками,  выпущенными  на  обыкновенные  акции \\nКомпании,  торги  не  возобновлены  на  дату  утверждения  данной  консолидированной  финансовой \\nотчетности к выпуску. В соответствии с Федеральным законом № 114-ФЗ «О внесении изменений в \\nФедеральный закон «Об акционерных обществах» и отдельные законодательные акты Российской \\nФедерации» в отчетном периоде была осуществлена автоматическая и принудительная конвертация \\nдепозитарных расписок в акции Компании. Конвертация депозитарных расписок, права на которые' metadata={'source': '../files/txts/Консолидированная финансовая отчетность за год закончившийся 31 декабря 2022 г. (в рублях)_.txt'}\n",
      "------\n",
      "\n",
      "page_content='Все  курсовые  разницы,  возникающие  в  результате  пересчета  компонентов  консолидированного \\nотчета о прибылях и убытках и консолидированного отчета о финансовом положении, отражаются \\nкак отдельный компонент специального резерва в составе прочих совокупных доходов/расходов. \\n \\nОбменные курсы соответствующих валют к российскому рублю, использованные при подготовке \\nконсолидированной финансовой отчетности, представлены следующим образом: \\nНа 31 декабря 2022 \\nгода \\nНа 31 декабря 2021 \\nгода \\nНа 31 декабря 2020 \\nгода \\n \\n \\n \\n \\n \\n \\n \\n \\n \\n70,34 \\n75,65 \\n9,89 \\n74,29 \\n84,07 \\n11,65 \\n73,88 \\n90,79 \\n11,31 \\n \\n \\nДоллар США/Рубль \\nЕвро/Рубль \\nКитайский юань/Рубль \\n \\n \\n \\n \\n \\n \\n \\n15' metadata={'source': '../files/txts/Консолидированная финансовая отчетность за год закончившийся 31 декабря 2022 г. (в рублях)_.txt'}\n",
      "------\n",
      "\n"
     ]
    },
    {
     "name": "stderr",
     "output_type": "stream",
     "text": [
      "/home/jupyter/.local/lib/python3.10/site-packages/langchain_core/_api/deprecation.py:119: LangChainDeprecationWarning: The method `BaseRetriever.get_relevant_documents` was deprecated in langchain-core 0.1.46 and will be removed in 0.3.0. Use invoke instead.\n",
      "  warn_deprecated(\n"
     ]
    }
   ],
   "source": [
    "query = \"Что по гособлигациям?\"\n",
    "print(f\"+ Запрос: {query}\")\n",
    "\n",
    "print(\" + Получение релевантных документов\")\n",
    "retriever = db.as_retriever()\n",
    "result = retriever.get_relevant_documents(query)\n",
    "for x in result:\n",
    "    print(f\"{x}\\n------\\n\")"
   ]
  },
  {
   "cell_type": "code",
   "execution_count": 14,
   "id": "3cb50168-e5d1-4405-a7fc-8381e5d2e763",
   "metadata": {
    "execution": {
     "iopub.execute_input": "2024-06-02T02:52:08.122682Z",
     "iopub.status.busy": "2024-06-02T02:52:08.121866Z",
     "iopub.status.idle": "2024-06-02T02:52:09.352894Z",
     "shell.execute_reply": "2024-06-02T02:52:09.352267Z",
     "shell.execute_reply.started": "2024-06-02T02:52:08.122651Z"
    },
    "tags": []
   },
   "outputs": [
    {
     "name": "stdout",
     "output_type": "stream",
     "text": [
      " + Запуск LLM Chain\n",
      " + Ответ: Исходя из предоставленного текста, можно сделать вывод, что по состоянию на 31 декабря 2022 года **по гособлигациям не проводились торги**, но они были возобновлены в конце марта того же года. При этом были **действительны ограничения на сделки с ценными бумагами,** которые совершались нерезидентами, так как торги проходили на Московской бирже. \n",
      "\n",
      "Вероятно, вы имеете в виду что-то ещё — пожалуйста, уточните ваш вопрос.\n"
     ]
    }
   ],
   "source": [
    "template = \"\"\"Ответь на вопрос, основываясь только на текст ниже:\n",
    "{context}\n",
    "\n",
    "Вопрос: {question}\n",
    "\"\"\"\n",
    "\n",
    "prompt = ChatPromptTemplate.from_template(template)\n",
    "model = YandexLLM(folder_id=os.getenv('FOLDER_ID'), api_key=os.getenv('YANDEX_API_KEY'))\n",
    "\n",
    "chain = (\n",
    "    {\"context\": retriever, \"question\": RunnablePassthrough()} \n",
    "    | prompt \n",
    "    | model \n",
    "    | StrOutputParser()\n",
    ")\n",
    "\n",
    "print(\" + Запуск LLM Chain\")\n",
    "res = chain.invoke(query)\n",
    "print(f\" + Ответ: {res}\")"
   ]
  },
  {
   "cell_type": "code",
   "execution_count": 21,
   "id": "e98ac408-08f0-4799-b007-c1771526ec34",
   "metadata": {
    "execution": {
     "iopub.execute_input": "2024-06-02T03:25:09.389952Z",
     "iopub.status.busy": "2024-06-02T03:25:09.388861Z",
     "iopub.status.idle": "2024-06-02T03:25:09.404832Z",
     "shell.execute_reply": "2024-06-02T03:25:09.404233Z",
     "shell.execute_reply.started": "2024-06-02T03:25:09.389912Z"
    },
    "tags": []
   },
   "outputs": [
    {
     "name": "stdout",
     "output_type": "stream",
     "text": [
      "27.04.2023 АЗ ГД МСФО за 2022г_опт.pdf\n",
      "O1 Properties Finance FS 2022 signed.pdf\n",
      "Summary_MICEX-RTS_FS_4Q2022_RUS.pdf\n",
      "x5_q2_2022_financial_results_rus.pdf\n",
      "АЗ+КФО Абрау-Дюрсо_2022 (3).pdf\n",
      "Консолидированная финансовая отчетность за год закончившийся 31 декабря 2022 г. (в рублях)_.pdf\n",
      "МСФО отчетность 2022_УК Первая_2022.pdf\n",
      "Отчетность МСФО 2022.pdf\n",
      "Отчетность и аудиторское заключение за 2022 год Мэйл-Copy1.Ру Финанс.pdf\n",
      "Отчетность и аудиторское заключение за 2022 год Мэйл.Ру Финанс.pdf\n",
      "Финансовая отчетность по МСФО (12 месяцев 2022 года).pdf\n"
     ]
    }
   ],
   "source": [
    "! ls ../files/pdfs/all_docs"
   ]
  },
  {
   "cell_type": "code",
   "execution_count": 30,
   "id": "01b3bc1d-a96b-4d85-91ff-08fdb880c3dc",
   "metadata": {
    "execution": {
     "iopub.execute_input": "2024-06-02T03:43:28.837401Z",
     "iopub.status.busy": "2024-06-02T03:43:28.836474Z",
     "iopub.status.idle": "2024-06-02T03:43:28.846372Z",
     "shell.execute_reply": "2024-06-02T03:43:28.845752Z",
     "shell.execute_reply.started": "2024-06-02T03:43:28.837361Z"
    },
    "tags": []
   },
   "outputs": [],
   "source": [
    "# Не успею создать еще один варинат db\n",
    "\n",
    "# def create_embeddings_with_pdf(folder_path: str, index_name: str) -> FAISS:\n",
    "#     embeddings = YandexEmbeddings(folder_id=os.getenv('FOLDER_ID'), api_key=os.getenv('YANDEX_API_KEY'))\n",
    "#     text_splitter = RecursiveCharacterTextSplitter(chunk_size=1000, chunk_overlap=0)\n",
    "\n",
    "#     for path in tqdm(os.listdir('../files/pdfs/all_docs')):\n",
    "#         pdf_path = '../files/pdfs/all_docs/'+path\n",
    "#         loader = PDFMinerLoader(pdf_path)\n",
    "#         document = loader.load()\n",
    "#         doc = text_splitter.split_documents(document)\n",
    "#         db = FAISS.from_documents(doc, embedding=embeddings)  # .from_documents(doc, embeddings)\n",
    "    \n",
    "#     db.save_local(folder_path, index_name)\n",
    "\n",
    "#     return db\n",
    "\n",
    "# db_pdf = create_embeddings_with_pdf('../files/dbs/db1_pdf', index_name='finance_docs')"
   ]
  },
  {
   "cell_type": "code",
   "execution_count": 36,
   "id": "d3acb9ec-84ec-4c5e-ae4c-9ae68ae242f0",
   "metadata": {
    "execution": {
     "iopub.execute_input": "2024-06-02T04:31:36.784044Z",
     "iopub.status.busy": "2024-06-02T04:31:36.783241Z",
     "iopub.status.idle": "2024-06-02T04:31:56.524052Z",
     "shell.execute_reply": "2024-06-02T04:31:56.523379Z",
     "shell.execute_reply.started": "2024-06-02T04:31:36.784012Z"
    },
    "tags": []
   },
   "outputs": [
    {
     "name": "stdin",
     "output_type": "stream",
     "text": [
      "Введите ваш запрос (или q для выхода):  Когда прекращается признание финансовых обязательств\n"
     ]
    },
    {
     "name": "stdout",
     "output_type": "stream",
     "text": [
      " + Ответ: Прекращение признания финансовых обязательств происходит в случае исполнения, отмены или истечения срока обязательств.\n",
      "\n",
      "\n",
      "====================================================================================================\n",
      "\n",
      "\n"
     ]
    },
    {
     "name": "stdin",
     "output_type": "stream",
     "text": [
      "Введите ваш запрос (или q для выхода):  q\n"
     ]
    }
   ],
   "source": [
    "import os\n",
    "from tqdm import tqdm\n",
    "from dotenv import load_dotenv\n",
    "from yandex_chain import YandexLLM, YandexEmbeddings\n",
    "from langchain_community.vectorstores import FAISS\n",
    "from langchain_community.document_loaders import TextLoader\n",
    "from langchain_community.document_loaders.pdf import PDFMinerLoader\n",
    "from langchain_text_splitters import CharacterTextSplitter, RecursiveCharacterTextSplitter\n",
    "from langchain.prompts import ChatPromptTemplate\n",
    "from langchain.schema.output_parser import StrOutputParser\n",
    "from langchain.schema.runnable import RunnablePassthrough\n",
    "\n",
    "load_dotenv()\n",
    "\n",
    "\n",
    "def create_embeddings_with_text(folder_path: str, index_name: str) -> FAISS:\n",
    "    embeddings = YandexEmbeddings(folder_id=os.getenv('FOLDER_ID'), api_key=os.getenv('YANDEX_API_KEY'))\n",
    "    # text_splitter = CharacterTextSplitter(chunk_size=2000, chunk_overlap=0)\n",
    "    text_splitter = RecursiveCharacterTextSplitter(chunk_size=1000, chunk_overlap=0)\n",
    "\n",
    "    for path in tqdm(os.listdir('../files/txts')):\n",
    "        txt_path = '../files/txts/'+path\n",
    "        loader = TextLoader(txt_path)\n",
    "        document = loader.load()\n",
    "        doc = text_splitter.split_documents(document)\n",
    "        db = FAISS.from_documents(doc, embeddings)\n",
    "    \n",
    "    db.save_local(folder_path, index_name)\n",
    "\n",
    "    return db\n",
    "\n",
    "\n",
    "def create_embeddings_with_pdf(folder_path: str, index_name: str) -> FAISS:\n",
    "    embeddings = YandexEmbeddings(folder_id=os.getenv('FOLDER_ID'), api_key=os.getenv('YANDEX_API_KEY'))\n",
    "    text_splitter = RecursiveCharacterTextSplitter(chunk_size=1000, chunk_overlap=0)\n",
    "\n",
    "    for path in tqdm(os.listdir('../files/pdfs/all_docs')):\n",
    "        pdf_path = '../files/pdfs/all_docs/'+path\n",
    "        loader = PDFMinerLoader(pdf_path)\n",
    "        document = loader.load()\n",
    "        doc = text_splitter.split_documents(document)\n",
    "        db = FAISS.from_documents(doc, embedding=embeddings)  # .from_documents(doc, embeddings)\n",
    "    \n",
    "    db.save_local(folder_path, index_name)\n",
    "\n",
    "    return db\n",
    "\n",
    "\n",
    "def load_embeddings(folder_path: str, index_name: str) -> FAISS:\n",
    "    embeddings = YandexEmbeddings(folder_id=os.getenv('FOLDER_ID'), api_key=os.getenv('YANDEX_API_KEY'))\n",
    "    db = FAISS.load_local(folder_path=folder_path, embeddings=embeddings, index_name=index_name, allow_dangerous_deserialization=True)\n",
    "    return db\n",
    "\n",
    "\n",
    "def rag_system(query: str, db_folder_path: str, db_index_name: str):\n",
    "    # print(\" + Индексируем документы\")\n",
    "    # db = create_embeddings_with_text('../files/dbs/db1_text', index_name='finance_docs') Создаем базу данных, если ее нет\n",
    "    # db = create_embeddings_with_pdf('../files/dbs/db1_pdf', index_name='finance_docs') Второй варинант создания без custom pdf_parser\n",
    "    db =  load_embeddings(folder_path=db_folder_path, index_name=db_index_name)\n",
    "    retriever = db.as_retriever()\n",
    "\n",
    "    # print(f\"+ Запрос: {query}\")\n",
    "    # print(\" + Получение релевантных документов\")\n",
    "    retriever = db.as_retriever()\n",
    "    # docs = retriever.invoke(query) На будущее\n",
    "    # print(docs[0].page_content) по этому print можно будет определить в каком месте плохо сформирован текст pdf парсером\n",
    "\n",
    "    template = \"\"\"Ответь на вопрос, основываясь только на текст ниже. Плюс сначала пиши название текста и через 2 строчки ответ.\n",
    "    Еще учитывай, что ты отлично разбираешься в финансовых отчетах и бухгалтерском учете в целом.\n",
    "    Также помни ты получаешь данные из нескольких документов в общей базе данных:\n",
    "    {context}\n",
    "\n",
    "    Вопрос: {question}\n",
    "    \"\"\"\n",
    "\n",
    "    prompt = ChatPromptTemplate.from_template(template)\n",
    "    model = YandexLLM(folder_id=os.getenv('FOLDER_ID'), api_key=os.getenv('YANDEX_API_KEY'))\n",
    "\n",
    "    chain = (\n",
    "        {\"context\": retriever, \"question\": RunnablePassthrough()} \n",
    "        | prompt \n",
    "        | model \n",
    "        | StrOutputParser()\n",
    "    )\n",
    "\n",
    "    # print(\" + Запуск LLM Chain\")\n",
    "    res = chain.invoke(query)\n",
    "    print(f\" + Ответ: {res}\")\n",
    "\n",
    "\n",
    "\n",
    "\n",
    "def main():\n",
    "    while True:\n",
    "        query = input('Введите ваш запрос (или q для выхода): ')\n",
    "        if query == 'q': break\n",
    "        rag_system(query=query, db_folder_path='../files/dbs/db1_text', db_index_name='finance_docs')\n",
    "        print('\\n\\n' + 100*'=' + '\\n\\n')\n",
    "\n",
    "\n",
    "if __name__ == \"__main__\":\n",
    "    main()"
   ]
  },
  {
   "cell_type": "code",
   "execution_count": 44,
   "id": "37166e32-6ee9-4ded-a279-153c5b012f4f",
   "metadata": {
    "execution": {
     "iopub.execute_input": "2024-06-02T04:40:12.409506Z",
     "iopub.status.busy": "2024-06-02T04:40:12.408383Z",
     "iopub.status.idle": "2024-06-02T04:40:12.452878Z",
     "shell.execute_reply": "2024-06-02T04:40:12.452193Z",
     "shell.execute_reply.started": "2024-06-02T04:40:12.409464Z"
    },
    "tags": []
   },
   "outputs": [
    {
     "name": "stdout",
     "output_type": "stream",
     "text": [
      "(Document(page_content='4.  ОСНОВНЫЕ ПОЛОЖЕНИЯ УЧЕТНОЙ ПОЛИТИКИ (ПРОДОЛЖЕНИЕ) \\nПрекращение признания финансовых активов \\n \\nГруппа списывает финансовый актив с учета только в случае прекращения прав на денежные потоки \\nпо соответствующему договору или в случае передачи финансового актива и всех соответствующих \\nосновных рисков и выгод от владения активом другой организации. Если Группа не передает, но в \\nто  же  время  не  сохраняет  основные  риски  и  выгоды  от  владения  активом  и  продолжает \\nконтролировать  переданный  актив,  то  она  продолжает  отражать  свою  долю  в  данном  активе  и \\nсвязанном  с  ним  обязательстве  в  сумме,  предполагаемой  к  уплате.  Если  Группа  сохраняет  все \\nосновные  риски  и  выгоды  от  владения  переданным  финансовым  активом,  она  продолжает \\nучитывать данный финансовый актив, а также отражает обеспеченный заем в сумме полученных \\nсредств. \\n \\nФинансовые обязательства', metadata={'source': '../files/txts/Консолидированная финансовая отчетность за год закончившийся 31 декабря 2022 г. (в рублях)_.txt'}), 1.0635008)\n"
     ]
    }
   ],
   "source": [
    "test_query = \"Когда прекращается признание финансовых обязательств\"\n",
    "docs_and_scores = db.similarity_search_with_score(test_query)\n",
    "print(docs_and_scores[-2])  # можно еще подумать, как увеличить качество, потому что по score лучше -1 документ, а ответом будет -2 документ"
   ]
  },
  {
   "cell_type": "code",
   "execution_count": null,
   "id": "52d6992c-4faa-4811-b2c6-01bae5883b40",
   "metadata": {},
   "outputs": [],
   "source": []
  }
 ],
 "metadata": {
  "kernelspec": {
   "display_name": "DataSphere Kernel",
   "language": "python",
   "name": "python3"
  },
  "language_info": {
   "codemirror_mode": {
    "name": "ipython",
    "version": 3
   },
   "file_extension": ".py",
   "mimetype": "text/x-python",
   "name": "python",
   "nbconvert_exporter": "python",
   "pygments_lexer": "ipython3",
   "version": "3.10.12"
  }
 },
 "nbformat": 4,
 "nbformat_minor": 5
}
