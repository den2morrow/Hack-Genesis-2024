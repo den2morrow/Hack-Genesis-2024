{
 "cells": [
  {
   "cell_type": "code",
   "execution_count": 13,
   "id": "4d6d7e09-e27a-4dd4-b02a-5877c8cb4173",
   "metadata": {
    "execution": {
     "iopub.execute_input": "2024-06-02T02:51:38.209101Z",
     "iopub.status.busy": "2024-06-02T02:51:38.208209Z",
     "iopub.status.idle": "2024-06-02T02:51:38.238396Z",
     "shell.execute_reply": "2024-06-02T02:51:38.237774Z",
     "shell.execute_reply.started": "2024-06-02T02:51:38.209072Z"
    },
    "tags": []
   },
   "outputs": [
    {
     "data": {
      "text/plain": [
       "True"
      ]
     },
     "execution_count": 13,
     "metadata": {},
     "output_type": "execute_result"
    }
   ],
   "source": [
    "import os\n",
    "from dotenv import load_dotenv\n",
    "from yandex_chain import YandexLLM, YandexEmbeddings\n",
    "from langchain.vectorstores import FAISS\n",
    "from langchain_community.document_loaders import TextLoader\n",
    "from langchain_community.document_loaders.pdf import UnstructuredPDFLoader\n",
    "from langchain_text_splitters import CharacterTextSplitter, RecursiveCharacterTextSplitter\n",
    "from langchain.prompts import ChatPromptTemplate\n",
    "from langchain.schema.output_parser import StrOutputParser\n",
    "from langchain.schema.runnable import RunnablePassthrough\n",
    "\n",
    "load_dotenv()"
   ]
  },
  {
   "cell_type": "code",
   "execution_count": 9,
   "id": "73b30dc9-5477-4540-9091-90a27135b18f",
   "metadata": {
    "execution": {
     "iopub.execute_input": "2024-06-02T02:12:43.523245Z",
     "iopub.status.busy": "2024-06-02T02:12:43.522568Z",
     "iopub.status.idle": "2024-06-02T02:40:47.736497Z",
     "shell.execute_reply": "2024-06-02T02:40:47.735652Z",
     "shell.execute_reply.started": "2024-06-02T02:12:43.523210Z"
    },
    "tags": []
   },
   "outputs": [
    {
     "name": "stdout",
     "output_type": "stream",
     "text": [
      "73\n",
      "52\n",
      "68\n",
      "68\n",
      "161\n",
      "127\n",
      "174\n",
      "197\n",
      "218\n",
      "182\n",
      "324\n"
     ]
    }
   ],
   "source": [
    "embeddings = YandexEmbeddings(folder_id=os.getenv('FOLDER_ID'), api_key=os.getenv('YANDEX_API_KEY'))\n",
    "# text_splitter = CharacterTextSplitter(chunk_overlap=0)\n",
    "text_splitter = RecursiveCharacterTextSplitter(chunk_size=1000, chunk_overlap=0)\n",
    "\n",
    "\n",
    "for path in os.listdir('../files/txts'):\n",
    "    txt_path = '../files/txts/'+path\n",
    "    loader = TextLoader(txt_path)\n",
    "    document = loader.load()\n",
    "    doc = text_splitter.split_documents(document)\n",
    "    db = FAISS.from_documents(doc, embeddings)\n",
    "    print(db.index.ntotal)"
   ]
  },
  {
   "cell_type": "code",
   "execution_count": 10,
   "id": "6ea93b81-17c2-4c99-8be4-f8a9906d4b6f",
   "metadata": {
    "execution": {
     "iopub.execute_input": "2024-06-02T02:40:47.738849Z",
     "iopub.status.busy": "2024-06-02T02:40:47.737933Z",
     "iopub.status.idle": "2024-06-02T02:40:47.765531Z",
     "shell.execute_reply": "2024-06-02T02:40:47.764880Z",
     "shell.execute_reply.started": "2024-06-02T02:40:47.738814Z"
    }
   },
   "outputs": [],
   "source": [
    "db.save_local('../files', index_name='finance_docs')"
   ]
  },
  {
   "cell_type": "code",
   "execution_count": 12,
   "id": "124c6553-540f-44e7-8534-f0e426c76da5",
   "metadata": {
    "execution": {
     "iopub.execute_input": "2024-06-02T02:48:29.351262Z",
     "iopub.status.busy": "2024-06-02T02:48:29.350127Z",
     "iopub.status.idle": "2024-06-02T02:48:29.401500Z",
     "shell.execute_reply": "2024-06-02T02:48:29.400842Z",
     "shell.execute_reply.started": "2024-06-02T02:48:29.351223Z"
    },
    "tags": []
   },
   "outputs": [
    {
     "name": "stdout",
     "output_type": "stream",
     "text": [
      "+ Запрос: Что по гособлигациям?\n",
      " + Получение релевантных документов\n",
      "page_content='договорные  условия  финансового  актива  обуславливают  получение  в  указанные  даты \\nденежных  потоков,  являющихся  исключительно  платежами в  счет  основной суммы долга и \\nпроцентов на непогашенную часть основной суммы долга. \\n\\uf0b7 \\n \\nПри  первоначальном  признании  Группа  может  принять  решение,  без  права  его  последующей \\nотмены, представлять в  составе  прочего  совокупного дохода  изменения  справедливой стоимости \\nинвестиции в долевой инструмент, не предназначенный для торговли. Такое решение принимается \\nпо каждому инструменту в отдельности. \\n \\n \\n22' metadata={'source': '../files/txts/Консолидированная финансовая отчетность за год закончившийся 31 декабря 2022 г. (в рублях)_.txt'}\n",
      "------\n",
      "\n",
      "page_content='учитываются  в  российских  депозитариях,  произошла  автоматически.  Конвертация  депозитарных \\nрасписок,  права  на  которые  учитываются  в  иностранных  депозитариях,  была  возможна  в \\nзаявительном  порядке  до  10  ноября  2022  года.  Акции  Компании  в  рамках  принудительной \\nконвертации были  зачислены заявителям, представившим  необходимые документы,  до  окончания \\nотчетного  периода.  По  состоянию  на  31  декабря  2022  года  доля  акций  Компании,  оставшихся  на \\nсчетах депо депозитарных программ, составила 6,7% от уставного капитала Компании. \\n \\n28 апреля 2023 года истекает срок разрешения на продолжение обращения депозитарных расписок \\nКомпании за пределами Российской Федерации. С этой даты учтенные на счетах депо депозитарных \\nпрограмм акции Компании не предоставляют права голоса, не учитываются при подсчете голосов, \\nпо ним не выплачиваются дивиденды. \\n \\n21  июля  2022  года  Европейский  Союз  и  26  июля  2022  года  Великобритания  среди  прочих' metadata={'source': '../files/txts/Консолидированная финансовая отчетность за год закончившийся 31 декабря 2022 г. (в рублях)_.txt'}\n",
      "------\n",
      "\n",
      "page_content='34.  УСЛОВНЫЕ ОБЯЗАТЕЛЬСТВА (ПРОДОЛЖЕНИЕ) \\nС 28 февраля 2022 года не проводились торги акциями и корпоративными облигациями на фондовом \\nрынке Московской  биржи.  Торги  акциями  и  корпоративными облигациями на Московской бирже \\nбыли возобновлены в конце марта 2022 года, при этом продолжают действовать ограничения на ряд \\nсделок с ценными бумагами, совершаемых нерезидентами. 3 марта 2022 года Лондонская фондовая \\nбиржа  приостановила  торги  депозитарными  расписками,  выпущенными  на  обыкновенные  акции \\nКомпании,  торги  не  возобновлены  на  дату  утверждения  данной  консолидированной  финансовой \\nотчетности к выпуску. В соответствии с Федеральным законом № 114-ФЗ «О внесении изменений в \\nФедеральный закон «Об акционерных обществах» и отдельные законодательные акты Российской \\nФедерации» в отчетном периоде была осуществлена автоматическая и принудительная конвертация \\nдепозитарных расписок в акции Компании. Конвертация депозитарных расписок, права на которые' metadata={'source': '../files/txts/Консолидированная финансовая отчетность за год закончившийся 31 декабря 2022 г. (в рублях)_.txt'}\n",
      "------\n",
      "\n",
      "page_content='Все  курсовые  разницы,  возникающие  в  результате  пересчета  компонентов  консолидированного \\nотчета о прибылях и убытках и консолидированного отчета о финансовом положении, отражаются \\nкак отдельный компонент специального резерва в составе прочих совокупных доходов/расходов. \\n \\nОбменные курсы соответствующих валют к российскому рублю, использованные при подготовке \\nконсолидированной финансовой отчетности, представлены следующим образом: \\nНа 31 декабря 2022 \\nгода \\nНа 31 декабря 2021 \\nгода \\nНа 31 декабря 2020 \\nгода \\n \\n \\n \\n \\n \\n \\n \\n \\n \\n70,34 \\n75,65 \\n9,89 \\n74,29 \\n84,07 \\n11,65 \\n73,88 \\n90,79 \\n11,31 \\n \\n \\nДоллар США/Рубль \\nЕвро/Рубль \\nКитайский юань/Рубль \\n \\n \\n \\n \\n \\n \\n \\n15' metadata={'source': '../files/txts/Консолидированная финансовая отчетность за год закончившийся 31 декабря 2022 г. (в рублях)_.txt'}\n",
      "------\n",
      "\n"
     ]
    },
    {
     "name": "stderr",
     "output_type": "stream",
     "text": [
      "/home/jupyter/.local/lib/python3.10/site-packages/langchain_core/_api/deprecation.py:119: LangChainDeprecationWarning: The method `BaseRetriever.get_relevant_documents` was deprecated in langchain-core 0.1.46 and will be removed in 0.3.0. Use invoke instead.\n",
      "  warn_deprecated(\n"
     ]
    }
   ],
   "source": [
    "query = \"Что по гособлигациям?\"\n",
    "print(f\"+ Запрос: {query}\")\n",
    "\n",
    "print(\" + Получение релевантных документов\")\n",
    "retriever = db.as_retriever()\n",
    "result = retriever.get_relevant_documents(query)\n",
    "for x in result:\n",
    "    print(f\"{x}\\n------\\n\")"
   ]
  },
  {
   "cell_type": "code",
   "execution_count": 14,
   "id": "3cb50168-e5d1-4405-a7fc-8381e5d2e763",
   "metadata": {
    "execution": {
     "iopub.execute_input": "2024-06-02T02:52:08.122682Z",
     "iopub.status.busy": "2024-06-02T02:52:08.121866Z",
     "iopub.status.idle": "2024-06-02T02:52:09.352894Z",
     "shell.execute_reply": "2024-06-02T02:52:09.352267Z",
     "shell.execute_reply.started": "2024-06-02T02:52:08.122651Z"
    },
    "tags": []
   },
   "outputs": [
    {
     "name": "stdout",
     "output_type": "stream",
     "text": [
      " + Запуск LLM Chain\n",
      " + Ответ: Исходя из предоставленного текста, можно сделать вывод, что по состоянию на 31 декабря 2022 года **по гособлигациям не проводились торги**, но они были возобновлены в конце марта того же года. При этом были **действительны ограничения на сделки с ценными бумагами,** которые совершались нерезидентами, так как торги проходили на Московской бирже. \n",
      "\n",
      "Вероятно, вы имеете в виду что-то ещё — пожалуйста, уточните ваш вопрос.\n"
     ]
    }
   ],
   "source": [
    "template = \"\"\"Ответь на вопрос, основываясь только на текст ниже:\n",
    "{context}\n",
    "\n",
    "Вопрос: {question}\n",
    "\"\"\"\n",
    "\n",
    "prompt = ChatPromptTemplate.from_template(template)\n",
    "model = YandexLLM(folder_id=os.getenv('FOLDER_ID'), api_key=os.getenv('YANDEX_API_KEY'))\n",
    "\n",
    "chain = (\n",
    "    {\"context\": retriever, \"question\": RunnablePassthrough()} \n",
    "    | prompt \n",
    "    | model \n",
    "    | StrOutputParser()\n",
    ")\n",
    "\n",
    "print(\" + Запуск LLM Chain\")\n",
    "res = chain.invoke(query)\n",
    "print(f\" + Ответ: {res}\")"
   ]
  },
  {
   "cell_type": "code",
   "execution_count": null,
   "id": "01b3bc1d-a96b-4d85-91ff-08fdb880c3dc",
   "metadata": {},
   "outputs": [],
   "source": []
  }
 ],
 "metadata": {
  "kernelspec": {
   "display_name": "DataSphere Kernel",
   "language": "python",
   "name": "python3"
  },
  "language_info": {
   "codemirror_mode": {
    "name": "ipython",
    "version": 3
   },
   "file_extension": ".py",
   "mimetype": "text/x-python",
   "name": "python",
   "nbconvert_exporter": "python",
   "pygments_lexer": "ipython3",
   "version": "3.10.12"
  }
 },
 "nbformat": 4,
 "nbformat_minor": 5
}
